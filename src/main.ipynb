{
 "cells": [
  {
   "cell_type": "code",
   "execution_count": null,
   "metadata": {},
   "outputs": [],
   "source": [
    "from emb_generating import imgs_to_emb\n",
    "\n",
    "import pandas as pd\n",
    "import numpy as np\n",
    "\n",
    "from sklearn.model_selection import train_test_split\n",
    "\n",
    "from sklearn.model_selection import GridSearchCV, cross_val_score, KFold\n",
    "\n",
    "import torch\n",
    "from lightautoml.automl.presets.tabular_presets import TabularAutoML\n",
    "from lightautoml.tasks import Task\n",
    "from sklearn.linear_model import LogisticRegression\n",
    "from pytorch_tabnet.tab_model import TabNetClassifier\n",
    "\n",
    "from sklearn.metrics import classification_report, confusion_matrix, f1_score\n",
    "from pytorch_tabnet.metrics import Metric\n",
    "\n",
    "import matplotlib.pyplot as plt\n",
    "import seaborn as sns"
   ]
  },
  {
   "cell_type": "code",
   "execution_count": null,
   "metadata": {},
   "outputs": [],
   "source": [
    "df_train_seal = imgs_to_emb('../data/train/seal/*')\n",
    "df_train_no_seal = imgs_to_emb('../data/train/no_seal/*')"
   ]
  },
  {
   "cell_type": "code",
   "execution_count": null,
   "metadata": {},
   "outputs": [],
   "source": [
    "df_train = pd.concat([df_train_seal, df_train_no_seal]).reset_index(drop=True).drop(columns=['Image name'])\n",
    "df_train"
   ]
  },
  {
   "cell_type": "code",
   "execution_count": null,
   "metadata": {},
   "outputs": [],
   "source": [
    "X = df_train.drop(columns=['Target'])\n",
    "y = df_train['Target']"
   ]
  },
  {
   "cell_type": "code",
   "execution_count": null,
   "metadata": {},
   "outputs": [],
   "source": [
    "X_train, X_val, y_train, y_val = train_test_split(X, y, train_size=0.8, random_state=42)"
   ]
  },
  {
   "cell_type": "code",
   "execution_count": null,
   "metadata": {},
   "outputs": [],
   "source": [
    "log_reg = LogisticRegression()\n",
    "\n",
    "log_reg_param_grid = {\n",
    "        'solver': ['newton-cg', 'lbfgs', 'liblinear', 'sag', 'saga'],\n",
    "        'penalty':['elasticnet',  'l2'],\n",
    "        'C':[0.01, 0.1, 1, 10, 100],\n",
    "}\n",
    "\n",
    "fold = KFold(n_splits=5, shuffle=True, random_state=43)\n",
    "log_reg_grid = GridSearchCV(estimator=log_reg, param_grid=log_reg_param_grid, scoring='f1', cv=fold, n_jobs=-1, verbose=True)\n",
    "log_reg_grid.fit(X_train, y_train)"
   ]
  },
  {
   "cell_type": "code",
   "execution_count": null,
   "metadata": {},
   "outputs": [],
   "source": [
    "log_reg_grid.best_params_"
   ]
  },
  {
   "cell_type": "code",
   "execution_count": null,
   "metadata": {},
   "outputs": [],
   "source": [
    "log_reg_preds = log_reg_grid.predict(X_val)\n",
    "print(classification_report(y_val, log_reg_preds))"
   ]
  },
  {
   "cell_type": "code",
   "execution_count": null,
   "metadata": {},
   "outputs": [],
   "source": [
    "cm_log_reg = confusion_matrix(log_reg_preds,y_val)\n",
    "cm_normalizes_log_reg = np.round(cm_log_reg/np.sum(cm_log_reg,axis=1).reshape(-1, 1), 2)\n",
    "\n",
    "cm_plot_log_reg=sns.heatmap(cm_normalizes_log_reg, cmap='OrRd_r', annot=True)\n",
    "cm_plot_log_reg.yaxis.set_ticklabels(['No seal', 'Seal'])\n",
    "cm_plot_log_reg.xaxis.set_ticklabels(['No seal', 'Seal'])\n",
    "\n",
    "plt.xlabel('Predicted')\n",
    "plt.ylabel('Actual')\n",
    "plt.title('Logistic Regression Confusion Matrix')\n",
    "plt.show()"
   ]
  },
  {
   "cell_type": "code",
   "execution_count": null,
   "metadata": {},
   "outputs": [],
   "source": [
    "N_THREADS = 6\n",
    "N_FOLDS = 5\n",
    "RANDOM_STATE = 42\n",
    "TEST_SIZE = 0.2\n",
    "TIMEOUT = 600\n",
    "\n",
    "np.random.seed(RANDOM_STATE)\n",
    "torch.set_num_threads(N_THREADS)\n",
    "\n",
    "def f1_metric(y_true, y_pred, **kwargs):\n",
    "    return f1_score(y_true, (y_pred > 0.5).astype(int), **kwargs)\n",
    "\n",
    "task = Task('binary', metric = f1_metric)\n",
    "\n",
    "roles = {\n",
    "    'target': 'Target',\n",
    "}\n",
    "\n",
    "lama = TabularAutoML(task = task, \n",
    "                       timeout = TIMEOUT,\n",
    "                       cpu_limit = N_THREADS,\n",
    "                       reader_params = {'n_jobs': N_THREADS, 'cv': N_FOLDS, 'random_state': RANDOM_STATE})\n",
    "lama.fit_predict(df_train, roles = roles)"
   ]
  },
  {
   "cell_type": "code",
   "execution_count": null,
   "metadata": {},
   "outputs": [],
   "source": [
    "lama_preds_temp = lama.predict(X_val)\n",
    "\n",
    "lama_preds = []\n",
    "for prediction in lama_preds:\n",
    "    if prediction > 0.5:\n",
    "        lama_preds.append(1)\n",
    "    else:\n",
    "        lama_preds.append(0)\n",
    "\n",
    "print(classification_report(y_val, lama_preds))"
   ]
  },
  {
   "cell_type": "code",
   "execution_count": null,
   "metadata": {},
   "outputs": [],
   "source": [
    "cm_lama = confusion_matrix(lama_preds,y_val)\n",
    "cm_normalizes_lama = np.round(cm_lama/np.sum(cm_lama,axis=1).reshape(-1, 1), 2)\n",
    "\n",
    "cm_plot_lama=sns.heatmap(cm_normalizes_lama, cmap='OrRd_r', annot=True)\n",
    "cm_plot_lama.yaxis.set_ticklabels(['No seal', 'Seal'])\n",
    "cm_plot_lama.xaxis.set_ticklabels(['No seal', 'Seal'])\n",
    "\n",
    "plt.xlabel('Predicted')\n",
    "plt.ylabel('Actual')\n",
    "plt.title('LightAutoML Confusion Matrix')\n",
    "plt.show()"
   ]
  },
  {
   "cell_type": "code",
   "execution_count": null,
   "metadata": {},
   "outputs": [],
   "source": [
    "class Gini(Metric):\n",
    "    def __init__(self):\n",
    "        self._name = \"gini\"\n",
    "        self._maximize = True\n",
    "\n",
    "    def __call__(self, y_true, y_score):\n",
    "        auc = f1_score(y_true, y_score[:, 1])\n",
    "        return max(2*auc - 1, 0.)\n",
    "\n",
    "tab_net = TabNetClassifier()\n",
    "tab_net.fit(\n",
    "  X_train.values, y_train,\n",
    "  eval_metric=[Gini],\n",
    "  max_epochs=1000,\n",
    "  patience=200,\n",
    ")"
   ]
  },
  {
   "cell_type": "code",
   "execution_count": null,
   "metadata": {},
   "outputs": [],
   "source": [
    "tab_net_preds = tab_net.predict(X_val.values)\n",
    "print(classification_report(y_val, tab_net_preds))"
   ]
  },
  {
   "cell_type": "code",
   "execution_count": null,
   "metadata": {},
   "outputs": [],
   "source": [
    "cm_tab_net = confusion_matrix(tab_net_preds,y_val)\n",
    "cm_normalizes_tab_net = np.round(cm_tab_net/np.sum(cm_tab_net,axis=1).reshape(-1, 1), 2)\n",
    "\n",
    "cm_plot_tab_net=sns.heatmap(cm_normalizes_tab_net, cmap='OrRd_r', annot=True)\n",
    "cm_plot_tab_net.yaxis.set_ticklabels(['No seal', 'Seal'])\n",
    "cm_plot_tab_net.xaxis.set_ticklabels(['No seal', 'Seal'])\n",
    "\n",
    "plt.xlabel('Predicted')\n",
    "plt.ylabel('Actual')\n",
    "plt.title('TabNet Confusion Matrix')\n",
    "plt.show()"
   ]
  }
 ],
 "metadata": {
  "kernelspec": {
   "display_name": "ml",
   "language": "python",
   "name": "python3"
  },
  "language_info": {
   "codemirror_mode": {
    "name": "ipython",
    "version": 3
   },
   "file_extension": ".py",
   "mimetype": "text/x-python",
   "name": "python",
   "nbconvert_exporter": "python",
   "pygments_lexer": "ipython3",
   "version": "3.9.7"
  },
  "orig_nbformat": 4
 },
 "nbformat": 4,
 "nbformat_minor": 2
}
